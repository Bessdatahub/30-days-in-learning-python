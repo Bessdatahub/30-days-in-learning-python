{
 "cells": [
  {
   "cell_type": "code",
   "execution_count": 1,
   "id": "714b96bc-2f7a-4032-8a3f-260fbc833125",
   "metadata": {},
   "outputs": [
    {
     "name": "stdout",
     "output_type": "stream",
     "text": [
      "Hello world\n"
     ]
    }
   ],
   "source": [
    "print('Hello world')"
   ]
  },
  {
   "cell_type": "code",
   "execution_count": 6,
   "id": "75acf18c-92b7-492f-ba8b-1c39aa2f3306",
   "metadata": {},
   "outputs": [
    {
     "name": "stdout",
     "output_type": "stream",
     "text": [
      "Welcome to my 30 day's in learning python\n",
      "Welcome to my 30 day's in learning python\n",
      "Welcome to my 30 day's in learning python\n"
     ]
    }
   ],
   "source": [
    "# Solving the isssue of aprosthrophe\n",
    "# 'Welcome to my 30 day's in learning python' ----- This will bring out an error to solve this:\n",
    "\n",
    "print('''Welcome to my 30 day's in learning python''')\n",
    "print(\"Welcome to my 30 day's in learning python\")\n",
    "print('Welcome to my 30 day\\'s in learning python')"
   ]
  },
  {
   "cell_type": "code",
   "execution_count": 8,
   "id": "cbbc57f0-72a9-43f0-bcef-3b4020337309",
   "metadata": {},
   "outputs": [
    {
     "name": "stdout",
     "output_type": "stream",
     "text": [
      "Shopping Lists\n",
      " Bags\n",
      " Dress\n",
      " Shoes\n",
      " Shirts\n"
     ]
    }
   ],
   "source": [
    "# Create a shopping list and put them in a single column\n",
    "\n",
    "print(\"Shopping Lists\\n Bags\\n Dress\\n Shoes\\n Shirts\")"
   ]
  },
  {
   "cell_type": "markdown",
   "id": "4f1a27a4-a8ad-4e34-acec-0da9779ecf2d",
   "metadata": {},
   "source": [
    "Fix the above statement to print the sentence properly without any errors"
   ]
  },
  {
   "cell_type": "code",
   "execution_count": 9,
   "id": "84e5c81b-79e5-4eb5-88b0-e97cb9ee9804",
   "metadata": {},
   "outputs": [
    {
     "name": "stdout",
     "output_type": "stream",
     "text": [
      "Python is a programming language\n"
     ]
    }
   ],
   "source": [
    "#Problem 1\n",
    "#print(\"Python\" is a \"programming\" language\")\n",
    "print(\"Python is a programming language\")"
   ]
  },
  {
   "cell_type": "code",
   "execution_count": 11,
   "id": "10de9ebb-3594-42c7-88ba-3004c9efe222",
   "metadata": {},
   "outputs": [
    {
     "name": "stdout",
     "output_type": "stream",
     "text": [
      "It's a wornderful day to learn python!\n"
     ]
    }
   ],
   "source": [
    "#Problem 2\n",
    "#print(\"It's a wonderful day to learn Python!\")\n",
    "\n",
    "print(\"It's a wornderful day to learn python!\")"
   ]
  },
  {
   "cell_type": "code",
   "execution_count": 12,
   "id": "f3ac6e4f-84aa-426e-9bc4-4b02d6b8ee47",
   "metadata": {},
   "outputs": [
    {
     "name": "stdout",
     "output_type": "stream",
     "text": [
      "He said, Python is easy to learn\n"
     ]
    }
   ],
   "source": [
    "#Problem 3\n",
    "#print(\"He said, \"Python is easy to learn.\"\")\n",
    "\n",
    "print(\"He said, Python is easy to learn\")"
   ]
  },
  {
   "cell_type": "code",
   "execution_count": 13,
   "id": "454307eb-7513-46dd-9600-90d08e12f0cb",
   "metadata": {},
   "outputs": [
    {
     "name": "stdout",
     "output_type": "stream",
     "text": [
      "Let's learn to code and have fun\n"
     ]
    }
   ],
   "source": [
    "#Problem 4\n",
    "#print('Let's learn to \"code\" and have fun')\n",
    "\n",
    "print('Let\\'s learn to code and have fun')"
   ]
  },
  {
   "cell_type": "code",
   "execution_count": 14,
   "id": "848c8a23-a363-4ebb-b4a2-696423b15e1b",
   "metadata": {},
   "outputs": [
    {
     "name": "stdout",
     "output_type": "stream",
     "text": [
      "Blessing John\n"
     ]
    }
   ],
   "source": [
    "#print your name \n",
    "name = 'Blessing John'\n",
    "print(name)"
   ]
  },
  {
   "cell_type": "markdown",
   "id": "a62c3827-8b34-4e56-a6f1-dd8a256fb59b",
   "metadata": {},
   "source": [
    "Basic Input\n",
    "Write a program that asks for the user's age and prints a message saying \"You are X years old\" (replace X with the input)."
   ]
  },
  {
   "cell_type": "code",
   "execution_count": 16,
   "id": "78628705-6a5d-47cf-8924-b9f4e285bca0",
   "metadata": {},
   "outputs": [
    {
     "name": "stdin",
     "output_type": "stream",
     "text": [
      "How old are you : 23\n"
     ]
    },
    {
     "name": "stdout",
     "output_type": "stream",
     "text": [
      "You are 23yrs old\n"
     ]
    }
   ],
   "source": [
    "age = int(input(\"How old are you :\"))\n",
    "print(f\"You are {age}yrs old\")\n"
   ]
  },
  {
   "cell_type": "markdown",
   "id": "fdd9cfcd-1169-42f9-aa76-aa8daadf8a02",
   "metadata": {},
   "source": [
    "Simple Arithmetic Operations\n",
    "Write a program that takes two numbers as input and prints their sum, difference, multiplication, and division."
   ]
  },
  {
   "cell_type": "code",
   "execution_count": 18,
   "id": "97ebd625-6d9f-486d-a139-47c269175753",
   "metadata": {},
   "outputs": [
    {
     "name": "stdin",
     "output_type": "stream",
     "text": [
      "Write a num : 45\n",
      "Write a num : 15\n"
     ]
    },
    {
     "name": "stdout",
     "output_type": "stream",
     "text": [
      "The sum of num1 and num2 = 60\n",
      "The Subtraction of num1 and num2 = 30\n",
      "The Multiplication of num1 and num2 = 675\n",
      "The Division of num1 and num2 = 3.0\n"
     ]
    }
   ],
   "source": [
    "num1 = int(input(\"Write a num :\"))\n",
    "num2  = int(input(\"Write a num :\"))\n",
    "\n",
    "Addition = num1 + num2\n",
    "Subtraction = num1 - num2\n",
    "Multiplication = num1 * num2\n",
    "Division = num1 / num2\n",
    "\n",
    "print(f\"The sum of num1 and num2 = {Addition}\")\n",
    "print(f\"The Subtraction of num1 and num2 = {Subtraction}\")\n",
    "print(f\"The Multiplication of num1 and num2 = {Multiplication}\")\n",
    "print(f\"The Division of num1 and num2 = {Division}\")"
   ]
  },
  {
   "cell_type": "markdown",
   "id": "e5ac0c5f-18d6-4a61-ab15-d87d936c4bae",
   "metadata": {},
   "source": [
    "Concatenation of Strings\n",
    "Write a program that takes two strings as input and prints them concatenated."
   ]
  },
  {
   "cell_type": "code",
   "execution_count": 20,
   "id": "c2687126-98e3-4468-a8d2-aaca01bad6c0",
   "metadata": {},
   "outputs": [
    {
     "name": "stdin",
     "output_type": "stream",
     "text": [
      "write the first sentence : I went to church today\n",
      "write the second sentence : to give thanks to the Almighty\n"
     ]
    },
    {
     "name": "stdout",
     "output_type": "stream",
     "text": [
      "I went to church today, to give thanks to the Almighty\n"
     ]
    }
   ],
   "source": [
    "statement1 = str(input(\"write the first sentence :\"))\n",
    "statement2 = str(input(\"write the second sentence :\"))\n",
    "\n",
    "print(f\"{statement1}, {statement2}\")"
   ]
  },
  {
   "cell_type": "markdown",
   "id": "423f94a6-26d7-427a-8e20-1d3324bb71ab",
   "metadata": {},
   "source": [
    "\n",
    "String Length\n",
    "Write a program that takes a string and prints its length."
   ]
  },
  {
   "cell_type": "code",
   "execution_count": null,
   "id": "5ee05d78-5468-493f-bfde-ddd5438fc2d1",
   "metadata": {},
   "outputs": [],
   "source": [
    "sentence = str(input(\"Write your sentence :\"))\n",
    "\n",
    "print(len(f\"{sentence}\"))"
   ]
  },
  {
   "cell_type": "code",
   "execution_count": null,
   "id": "6d304e22-91d7-440c-a6c5-d53647c358d2",
   "metadata": {},
   "outputs": [],
   "source": []
  }
 ],
 "metadata": {
  "kernelspec": {
   "display_name": "Python 3 (ipykernel)",
   "language": "python",
   "name": "python3"
  },
  "language_info": {
   "codemirror_mode": {
    "name": "ipython",
    "version": 3
   },
   "file_extension": ".py",
   "mimetype": "text/x-python",
   "name": "python",
   "nbconvert_exporter": "python",
   "pygments_lexer": "ipython3",
   "version": "3.11.7"
  }
 },
 "nbformat": 4,
 "nbformat_minor": 5
}
