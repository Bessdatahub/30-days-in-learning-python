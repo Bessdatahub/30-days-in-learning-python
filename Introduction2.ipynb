{
 "cells": [
  {
   "cell_type": "code",
   "execution_count": 1,
   "id": "529104b3-51e3-4af1-b0f4-cf87543f0cd0",
   "metadata": {},
   "outputs": [
    {
     "name": "stdout",
     "output_type": "stream",
     "text": [
      "11\n"
     ]
    }
   ],
   "source": [
    "price = 10\n",
    "print(price + 1)"
   ]
  },
  {
   "cell_type": "code",
   "execution_count": 2,
   "id": "abfe38b7-8e63-4536-a61e-c068530a1f67",
   "metadata": {},
   "outputs": [
    {
     "name": "stdout",
     "output_type": "stream",
     "text": [
      "9\n"
     ]
    }
   ],
   "source": [
    "price = 7\n",
    "tax = 2\n",
    "total = price + tax\n",
    "print(total)"
   ]
  },
  {
   "cell_type": "markdown",
   "id": "75f0671c-a768-4848-a2dc-b65bc778b0f4",
   "metadata": {},
   "source": [
    "Deleting variables"
   ]
  },
  {
   "cell_type": "code",
   "execution_count": 1,
   "id": "b9bd9de4-c3c4-4f33-baba-1a4941c4c33c",
   "metadata": {},
   "outputs": [],
   "source": [
    "figure =  20\n",
    "del figure"
   ]
  },
  {
   "cell_type": "code",
   "execution_count": 5,
   "id": "a34e462c-7b96-4bf4-9c51-dac49ca665ee",
   "metadata": {},
   "outputs": [
    {
     "name": "stdin",
     "output_type": "stream",
     "text": [
      "What is your name : Roselyn\n",
      "How old are you : 29\n"
     ]
    },
    {
     "name": "stdout",
     "output_type": "stream",
     "text": [
      "Welcome Roselyn\n",
      "you are 29yrs old\n"
     ]
    }
   ],
   "source": [
    "customer_name = str(input(\"What is your name :\"))\n",
    "Age  =  int(input(\"How old are you :\"))\n",
    "\n",
    "print(f\"Welcome {customer_name}\\nyou are {Age}yrs old\")"
   ]
  },
  {
   "cell_type": "markdown",
   "id": "32e6f737-824c-4bd2-9f6d-47e78923d70e",
   "metadata": {},
   "source": [
    "Use “%who” and “%whos” to track the variables you’ve created"
   ]
  },
  {
   "cell_type": "code",
   "execution_count": 9,
   "id": "a1bc4cc9-6520-4ae3-91e9-e24733ab1eeb",
   "metadata": {},
   "outputs": [],
   "source": [
    "price = 30\n",
    "product = \"Bike\"\n",
    "Date= \"2025-01-02\"\n",
    "dimension = [160, 12, 1, 3]\n"
   ]
  },
  {
   "cell_type": "code",
   "execution_count": 10,
   "id": "8d44af6e-e224-470b-b6f6-55a688f1c9a5",
   "metadata": {},
   "outputs": [
    {
     "name": "stdout",
     "output_type": "stream",
     "text": [
      "Age\t Date\t customer_name\t dimension\t price\t product\t \n"
     ]
    }
   ],
   "source": [
    "# %who return variable names\n",
    "%who"
   ]
  },
  {
   "cell_type": "code",
   "execution_count": 12,
   "id": "aed62d1f-03ba-4758-8e72-ca071b3e91d2",
   "metadata": {},
   "outputs": [
    {
     "name": "stdout",
     "output_type": "stream",
     "text": [
      "Variable        Type    Data/Info\n",
      "---------------------------------\n",
      "Age             int     29\n",
      "Date            str     2025-01-02\n",
      "customer_name   str     Roselyn\n",
      "dimension       list    n=4\n",
      "price           int     30\n",
      "product         str     Bike\n"
     ]
    }
   ],
   "source": [
    "# %whos return variable names, the data types and information\n",
    "%whos"
   ]
  },
  {
   "cell_type": "markdown",
   "id": "757b1ef5-ad10-4c6e-8e1b-db476ac41648",
   "metadata": {},
   "source": [
    "## Can you help calculate the following numbers?\r",
    " Gross profit from selling a snowboard  Gross margin from selling a snowboar   Price needed for a gross margin of 7    Sales tax on a snowboard s     Amount of money if the gross profit from selling 5 snowboards is invested for one year"
   ]
  },
  {
   "cell_type": "code",
   "execution_count": 29,
   "id": "72e5c2ff-cc37-4440-acfd-864d72bea57b",
   "metadata": {},
   "outputs": [],
   "source": [
    "snowboard_price = 499.99\n",
    "snowboard_cost = 199.99"
   ]
  },
  {
   "cell_type": "code",
   "execution_count": 30,
   "id": "397ccdf8-a4fa-48ee-a08f-dcc007727a05",
   "metadata": {},
   "outputs": [
    {
     "data": {
      "text/plain": [
       "300.0"
      ]
     },
     "execution_count": 30,
     "metadata": {},
     "output_type": "execute_result"
    }
   ],
   "source": [
    "# 1. Calculate the gross profit on our snowboard\n",
    "Gross_profit = snowboard_price  - snowboard_cost\n",
    "Gross_profit"
   ]
  },
  {
   "cell_type": "code",
   "execution_count": 31,
   "id": "b3a0c007-f363-400b-855d-ff376c77ea09",
   "metadata": {},
   "outputs": [
    {
     "data": {
      "text/plain": [
       "0.6000120002400048"
      ]
     },
     "execution_count": 31,
     "metadata": {},
     "output_type": "execute_result"
    }
   ],
   "source": [
    "# 2. Calculate the gross margin on our snowboard\n",
    "Gross_margin = Gross_profit / snowboard_price\n",
    "Gross_margin"
   ]
  },
  {
   "cell_type": "code",
   "execution_count": 32,
   "id": "55c4a3c8-0bf5-45fa-abd3-fa3dc4f6dcb9",
   "metadata": {},
   "outputs": [
    {
     "data": {
      "text/plain": [
       "666.6333333333332"
      ]
     },
     "execution_count": 32,
     "metadata": {},
     "output_type": "execute_result"
    }
   ],
   "source": [
    "#3. Calculate the price needed to obtain a gross margin of 70%\n",
    "\n",
    "price = snowboard_cost/ (1-0.7)\n",
    "price"
   ]
  },
  {
   "cell_type": "code",
   "execution_count": 33,
   "id": "56221a45-3557-4bc8-86e6-e4544f1accb6",
   "metadata": {},
   "outputs": [
    {
     "data": {
      "text/plain": [
       "39.9992"
      ]
     },
     "execution_count": 33,
     "metadata": {},
     "output_type": "execute_result"
    }
   ],
   "source": [
    "# 4. Calculate the sales tax on a sale of our snowboard\n",
    "#tax_rate = 8%\n",
    "sales_tax = snowboard_price * 0.08\n",
    "sales_tax"
   ]
  },
  {
   "cell_type": "code",
   "execution_count": 44,
   "id": "6622076e-a42e-4288-8502-b79175b7827f",
   "metadata": {},
   "outputs": [
    {
     "data": {
      "text/plain": [
       "1575.0"
      ]
     },
     "execution_count": 44,
     "metadata": {},
     "output_type": "execute_result"
    }
   ],
   "source": [
    "# 5. Return on Profits\n",
    "# Calculate the amount of money we would have if we invested the profit from selling 5 snowboards for one year\n",
    "# interest rate is 5%\n",
    "# calculate 5x the profit on selling a snowboard\n",
    "amount_invested = 5 * Gross_profit\n",
    "\n",
    "interest_rate = .05\n",
    "\n",
    "amount_after_1yr = amount_invested + (amount_invested * interest_rate)\n",
    "\n",
    "amount_after_1yr\n"
   ]
  },
  {
   "cell_type": "code",
   "execution_count": 46,
   "id": "deb56efd-eb9b-4e52-a7b7-c5a1f65288fb",
   "metadata": {},
   "outputs": [
    {
     "name": "stdout",
     "output_type": "stream",
     "text": [
      "129.99 49.99\n"
     ]
    }
   ],
   "source": [
    "# Use Min and Max functions to get largest value in a sequence\n",
    "\n",
    "price_list = [129.99, 99.99, 119.19, 99.99, 89.99, 79.99, 49.99]\n",
    "\n",
    "Max_price_list = max(price_list)\n",
    "Min_price_list = min(price_list)\n",
    "\n",
    "print(Max_price_list, Min_price_list)\n"
   ]
  },
  {
   "cell_type": "markdown",
   "id": "eff021d6-5dc5-45f4-bd9b-8c1e16506945",
   "metadata": {},
   "source": [
    "Cart mini project \n",
    "\n",
    "create a ecommerce cart that asks which items they want to buy ask for their name how many quantity they wanna buy At what price they are buying show the total cart including $ sign"
   ]
  },
  {
   "cell_type": "code",
   "execution_count": 52,
   "id": "f7f864fe-6fcd-47b0-bd1d-9c2a950d341a",
   "metadata": {},
   "outputs": [
    {
     "name": "stdin",
     "output_type": "stream",
     "text": [
      "What is your name : Mercy\n",
      "What items do you want to buy : Toys\n",
      "How many quantity are you buying : 5\n",
      "How much are the items : 19\n"
     ]
    },
    {
     "name": "stdout",
     "output_type": "stream",
     "text": [
      "Thank you Mercy for purchasing Toys\n",
      "your bill is $95\n"
     ]
    }
   ],
   "source": [
    "user_name = str(input(\"What is your name :\"))\n",
    "product_name = str(input(\"What items do you want to buy :\"))\n",
    "Quantity = int(input(\"How many quantity are you buying :\"))\n",
    "Price = int(input(\"How much are the items :\"))\n",
    "Selling_price = Price * Quantity\n",
    "print(f\"Thank you {user_name} for purchasing {product_name}\\nyour bill is ${Selling_price}\")"
   ]
  },
  {
   "cell_type": "markdown",
   "id": "1e893be7-02d7-49a6-929e-7311d613366e",
   "metadata": {},
   "source": [
    "### String Indexing"
   ]
  },
  {
   "cell_type": "markdown",
   "id": "1332571a-ce0f-406c-86d0-4dfc39f067a9",
   "metadata": {},
   "source": [
    "I need your help deciphering a hidden message. Our previous intern created a complex password storage procedure. \r\n",
    "I’ve determined one of his passwords is ‘Maven’ , but what I’m interested in is the index of the letters used to spell ‘Maven’ in the attached text messages, as this will help unlock new passwords"
   ]
  },
  {
   "cell_type": "code",
   "execution_count": 55,
   "id": "c84ef494-f41c-4b3d-ab0b-39ca0aa3f1d9",
   "metadata": {},
   "outputs": [
    {
     "name": "stdout",
     "output_type": "stream",
     "text": [
      "The secret password is Maven\n"
     ]
    }
   ],
   "source": [
    "text1 = '          Your friend Mark'\n",
    "text2 = 'was'\n",
    "text3 = 'having'\n",
    "text4 = 'a great day'\n",
    "text5 = 'on the mountain'\n",
    "\n",
    "message = text1[-4]+ text2[1] + text3[2] + text4[4] + text5[1]\n",
    "print(f\"The secret password is {message}\")"
   ]
  },
  {
   "cell_type": "code",
   "execution_count": null,
   "id": "e92e9c58-f229-45c8-933e-689927a99a44",
   "metadata": {},
   "outputs": [],
   "source": []
  },
  {
   "cell_type": "code",
   "execution_count": null,
   "id": "34305a7e-ee11-48fc-9d50-512e85ce6112",
   "metadata": {},
   "outputs": [],
   "source": []
  },
  {
   "cell_type": "code",
   "execution_count": null,
   "id": "710e60f8-383b-4d4b-8831-5a43de6bf040",
   "metadata": {},
   "outputs": [],
   "source": []
  }
 ],
 "metadata": {
  "kernelspec": {
   "display_name": "Python 3 (ipykernel)",
   "language": "python",
   "name": "python3"
  },
  "language_info": {
   "codemirror_mode": {
    "name": "ipython",
    "version": 3
   },
   "file_extension": ".py",
   "mimetype": "text/x-python",
   "name": "python",
   "nbconvert_exporter": "python",
   "pygments_lexer": "ipython3",
   "version": "3.11.7"
  }
 },
 "nbformat": 4,
 "nbformat_minor": 5
}
