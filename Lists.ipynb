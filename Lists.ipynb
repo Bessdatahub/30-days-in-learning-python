{
 "cells": [
  {
   "cell_type": "code",
   "execution_count": 1,
   "id": "e2acd0e4-ad0a-4e8e-a96b-19742c8c6ceb",
   "metadata": {},
   "outputs": [],
   "source": [
    "# Lists are stored in []\n",
    "movies = ['Spongebob', 'Dora', 'Jenifa_diaries', 'Romeo_Juliet', 'Titanic']"
   ]
  },
  {
   "cell_type": "code",
   "execution_count": 2,
   "id": "7b1e9226-7e9a-4f72-aada-9f3730e40081",
   "metadata": {},
   "outputs": [
    {
     "data": {
      "text/plain": [
       "1"
      ]
     },
     "execution_count": 2,
     "metadata": {},
     "output_type": "execute_result"
    }
   ],
   "source": [
    "# Accessing lists using index\n",
    "movies.index('Dora')"
   ]
  },
  {
   "cell_type": "code",
   "execution_count": 3,
   "id": "ce0702f6-ba47-489d-94c0-d0ff9d578dd9",
   "metadata": {},
   "outputs": [
    {
     "data": {
      "text/plain": [
       "['Dora', 'Jenifa_diaries', 'Romeo_Juliet']"
      ]
     },
     "execution_count": 3,
     "metadata": {},
     "output_type": "execute_result"
    }
   ],
   "source": [
    "movies[1:3+1]"
   ]
  },
  {
   "cell_type": "code",
   "execution_count": 4,
   "id": "153befc5-d095-4b8c-85a6-9ee1b8c44e49",
   "metadata": {},
   "outputs": [],
   "source": [
    "# to add a new list use the append method\n",
    "movies.append('Boys Before Flowers')"
   ]
  },
  {
   "cell_type": "code",
   "execution_count": 5,
   "id": "ec98d132-66b4-4205-b6cd-b13fd04a47f4",
   "metadata": {},
   "outputs": [
    {
     "data": {
      "text/plain": [
       "['Spongebob',\n",
       " 'Dora',\n",
       " 'Jenifa_diaries',\n",
       " 'Romeo_Juliet',\n",
       " 'Titanic',\n",
       " 'Boys Before Flowers']"
      ]
     },
     "execution_count": 5,
     "metadata": {},
     "output_type": "execute_result"
    }
   ],
   "source": [
    "movies"
   ]
  },
  {
   "cell_type": "code",
   "execution_count": 6,
   "id": "cf8460e1-65a1-4924-8355-8a4dca0d707d",
   "metadata": {},
   "outputs": [
    {
     "data": {
      "text/plain": [
       "['Spongebob',\n",
       " 'Spider Man',\n",
       " 'Jenifa_diaries',\n",
       " 'Romeo_Juliet',\n",
       " 'Titanic',\n",
       " 'Boys Before Flowers']"
      ]
     },
     "execution_count": 6,
     "metadata": {},
     "output_type": "execute_result"
    }
   ],
   "source": [
    "# changing items in a lis\n",
    "movies[1]= 'Spider Man'\n",
    "movies"
   ]
  },
  {
   "cell_type": "code",
   "execution_count": 7,
   "id": "bee7d897-4ad9-4c51-9322-6649cb985224",
   "metadata": {},
   "outputs": [
    {
     "data": {
      "text/plain": [
       "['Titanic',\n",
       " 'Spongebob',\n",
       " 'Spider Man',\n",
       " 'Romeo_Juliet',\n",
       " 'Jenifa_diaries',\n",
       " 'Boys Before Flowers']"
      ]
     },
     "execution_count": 7,
     "metadata": {},
     "output_type": "execute_result"
    }
   ],
   "source": [
    "#To sort a list in descending order\n",
    "movies.sort(reverse = True)\n",
    "movies\n"
   ]
  },
  {
   "cell_type": "code",
   "execution_count": 8,
   "id": "93a81872-5e79-4c17-8e61-eda681383505",
   "metadata": {},
   "outputs": [
    {
     "data": {
      "text/plain": [
       "['Boys Before Flowers',\n",
       " 'Jenifa_diaries',\n",
       " 'Romeo_Juliet',\n",
       " 'Spider Man',\n",
       " 'Spongebob',\n",
       " 'Titanic']"
      ]
     },
     "execution_count": 8,
     "metadata": {},
     "output_type": "execute_result"
    }
   ],
   "source": [
    "#To sort a list in ascending order\n",
    "movies.sort(reverse = False)\n",
    "movies"
   ]
  },
  {
   "cell_type": "code",
   "execution_count": 9,
   "id": "860a95ce-0c4d-4c16-9e9a-b91a21f5645f",
   "metadata": {},
   "outputs": [
    {
     "data": {
      "text/plain": [
       "['Boys Before Flowers',\n",
       " 'Jenifa_diaries',\n",
       " 'Bluey',\n",
       " 'Romeo_Juliet',\n",
       " 'Spider Man',\n",
       " 'Spongebob',\n",
       " 'Titanic']"
      ]
     },
     "execution_count": 9,
     "metadata": {},
     "output_type": "execute_result"
    }
   ],
   "source": [
    "# to add a list based on a specific location\n",
    "movies.insert(2, 'Bluey')\n",
    "movies"
   ]
  },
  {
   "cell_type": "code",
   "execution_count": 10,
   "id": "29deca63-6a22-4d1a-89a8-54369cce5b66",
   "metadata": {},
   "outputs": [
    {
     "data": {
      "text/plain": [
       "False"
      ]
     },
     "execution_count": 10,
     "metadata": {},
     "output_type": "execute_result"
    }
   ],
   "source": [
    "sizes = ['xs', 's', 'l', 'xl', 'xxl']\n",
    "\n",
    "'m'in sizes"
   ]
  },
  {
   "cell_type": "code",
   "execution_count": 11,
   "id": "12037f8e-ff99-412c-9325-5d26c702707f",
   "metadata": {},
   "outputs": [
    {
     "name": "stdout",
     "output_type": "stream",
     "text": [
      "It will be too tight but small will do\n"
     ]
    }
   ],
   "source": [
    "if 'm' in sizes:\n",
    "    print('I will take the medium pls')\n",
    "elif 's' in sizes:\n",
    "    print('It will be too tight but small will do')\n",
    "else:\n",
    "    print('I will wait till you have medium')"
   ]
  },
  {
   "cell_type": "code",
   "execution_count": 12,
   "id": "61c3ac00-1f23-4e19-b716-6d275c047adc",
   "metadata": {},
   "outputs": [
    {
     "data": {
      "text/plain": [
       "['Boys Before Flowers', 'Jenifa_diaries', 'Bluey']"
      ]
     },
     "execution_count": 12,
     "metadata": {},
     "output_type": "execute_result"
    }
   ],
   "source": [
    "movies[:3]"
   ]
  },
  {
   "cell_type": "code",
   "execution_count": 13,
   "id": "b2b3e1b5-371e-4b17-bd89-5717afef2441",
   "metadata": {},
   "outputs": [
    {
     "data": {
      "text/plain": [
       "['Bluey', 'Titanic']"
      ]
     },
     "execution_count": 13,
     "metadata": {},
     "output_type": "execute_result"
    }
   ],
   "source": [
    "movies[2::4]"
   ]
  },
  {
   "cell_type": "code",
   "execution_count": 14,
   "id": "5e14cd73-37c4-4cb1-b867-48e86a034311",
   "metadata": {},
   "outputs": [],
   "source": [
    "customer_list = [\n",
    "    'C00001', 'C00003', 'C00004', 'C00005', 'C00006',\n",
    "    'C00007', 'C00008', 'C00009', 'C00010', 'C00013', \n",
    "    'C00014', 'C00015', 'C00016', 'C00020', 'C00004', \n",
    "    'C00017', 'C00019', 'C00002', 'C00008', 'C00021',\n",
    "    'C00022'\n",
    "]"
   ]
  },
  {
   "cell_type": "code",
   "execution_count": 15,
   "id": "c06be8c7-b54a-4956-a5aa-b8b96def7dd2",
   "metadata": {},
   "outputs": [
    {
     "data": {
      "text/plain": [
       "99.99"
      ]
     },
     "execution_count": 15,
     "metadata": {},
     "output_type": "execute_result"
    }
   ],
   "source": [
    "# Return 99.99 if C00009 made a purchase; otherwise return 0.0\n",
    "# Create separate lists for the 5th   and 6th customers, every third customer, and the last 2 customers, we’re conducting market research\n",
    "\n",
    "('C00009' in customer_list) * 99.99"
   ]
  },
  {
   "cell_type": "code",
   "execution_count": 16,
   "id": "ab77ce47-1814-486a-9c2b-3843f3cbe1f2",
   "metadata": {},
   "outputs": [
    {
     "data": {
      "text/plain": [
       "['C00006', 'C00007']"
      ]
     },
     "execution_count": 16,
     "metadata": {},
     "output_type": "execute_result"
    }
   ],
   "source": [
    "fifth_sixth= customer_list[4:6]\n",
    "fifth_sixth"
   ]
  },
  {
   "cell_type": "code",
   "execution_count": 17,
   "id": "6ee072f9-7c86-4ca3-9b39-55b90c1756fc",
   "metadata": {},
   "outputs": [
    {
     "data": {
      "text/plain": [
       "['C00001', 'C00005', 'C00008', 'C00013', 'C00016', 'C00017', 'C00008']"
      ]
     },
     "execution_count": 17,
     "metadata": {},
     "output_type": "execute_result"
    }
   ],
   "source": [
    "third = customer_list[::3]\n",
    "third"
   ]
  },
  {
   "cell_type": "code",
   "execution_count": 18,
   "id": "4efa6283-f28d-4a60-afd0-044e7ae66a31",
   "metadata": {},
   "outputs": [
    {
     "data": {
      "text/plain": [
       "['C00021', 'C00022']"
      ]
     },
     "execution_count": 18,
     "metadata": {},
     "output_type": "execute_result"
    }
   ],
   "source": [
    "last_two = customer_list[-2:]\n",
    "last_two"
   ]
  },
  {
   "cell_type": "markdown",
   "id": "7d7f38c5-7036-4781-866d-65c3e870eee0",
   "metadata": {},
   "source": [
    "Combining lists"
   ]
  },
  {
   "cell_type": "code",
   "execution_count": 21,
   "id": "35b92a34-fb08-4b53-8ea8-8b0fedc58cfb",
   "metadata": {},
   "outputs": [],
   "source": [
    "sentence1 = ['cars', 'g-wagon', 'Toyota', 'Benz']"
   ]
  },
  {
   "cell_type": "code",
   "execution_count": 22,
   "id": "3fcd9eb6-6331-40b7-a633-7ec8108aed2a",
   "metadata": {},
   "outputs": [],
   "source": [
    "sentence2 = ['Airplanes', 'Helicopter']"
   ]
  },
  {
   "cell_type": "code",
   "execution_count": 25,
   "id": "a01e24b9-0831-46cc-842b-347842d16e58",
   "metadata": {},
   "outputs": [
    {
     "data": {
      "text/plain": [
       "['cars', 'g-wagon', 'Toyota', 'Benz', 'Airplanes', 'Helicopter']"
      ]
     },
     "execution_count": 25,
     "metadata": {},
     "output_type": "execute_result"
    }
   ],
   "source": [
    "sentence_combined = sentence1 + sentence2\n",
    "sentence_combined "
   ]
  },
  {
   "cell_type": "code",
   "execution_count": 26,
   "id": "087da74e-1650-41ed-a06d-7b1eabd06520",
   "metadata": {},
   "outputs": [
    {
     "data": {
      "text/plain": [
       "['Airplanes',\n",
       " 'Helicopter',\n",
       " 'Airplanes',\n",
       " 'Helicopter',\n",
       " 'Airplanes',\n",
       " 'Helicopter']"
      ]
     },
     "execution_count": 26,
     "metadata": {},
     "output_type": "execute_result"
    }
   ],
   "source": [
    "sentence2 * 3"
   ]
  },
  {
   "cell_type": "markdown",
   "id": "692eb82a-0181-4a08-9960-5867f0f01a75",
   "metadata": {},
   "source": [
    "Deleting items from the list"
   ]
  },
  {
   "cell_type": "code",
   "execution_count": 28,
   "id": "6b7aabf2-042d-4622-b6fb-b3b3e44f16c8",
   "metadata": {},
   "outputs": [
    {
     "data": {
      "text/plain": [
       "['cars', 'g-wagon']"
      ]
     },
     "execution_count": 28,
     "metadata": {},
     "output_type": "execute_result"
    }
   ],
   "source": [
    "del sentence1[2:3]\n",
    "sentence1"
   ]
  },
  {
   "cell_type": "code",
   "execution_count": 33,
   "id": "6eadeb21-4675-4199-9888-485d5adb70c8",
   "metadata": {},
   "outputs": [
    {
     "data": {
      "text/plain": [
       "['g-wagon']"
      ]
     },
     "execution_count": 33,
     "metadata": {},
     "output_type": "execute_result"
    }
   ],
   "source": [
    "sentence1.remove('cars')\n",
    "sentence1"
   ]
  },
  {
   "cell_type": "code",
   "execution_count": 35,
   "id": "1766287d-dd6b-4813-8e61-a8c9641ae1b7",
   "metadata": {},
   "outputs": [
    {
     "data": {
      "text/plain": [
       "['C00001',\n",
       " 'C00003',\n",
       " 'C00004',\n",
       " 'C00005',\n",
       " 'C00006',\n",
       " 'C00007',\n",
       " 'C00008',\n",
       " 'C00009',\n",
       " 'C00010',\n",
       " 'C00013',\n",
       " 'C00014',\n",
       " 'C00015',\n",
       " 'C00016',\n",
       " 'C00020']"
      ]
     },
     "execution_count": 35,
     "metadata": {},
     "output_type": "execute_result"
    }
   ],
   "source": [
    "# Updated Customer Lists\n",
    "\n",
    "#Hi there, we need to add customer 'C00009' to `customer_list`, we just found their receipt in the warehouse.\n",
    "\n",
    "#I've included the original `customer_list` below\n",
    "customer_list = [\n",
    "    'C00001', 'C00003', 'C00004','C00005', 'C00006', \n",
    "    'C00007', 'C00008', 'C00010', 'C00013', 'C00014', \n",
    "    'C00015', 'C00016', 'C00020'\n",
    "]\n",
    "\n",
    "customer_list.insert(7, 'C00009')\n",
    "customer_list"
   ]
  },
  {
   "cell_type": "code",
   "execution_count": 44,
   "id": "f6e4a95b-2536-40a3-8ceb-0a4b6c41378d",
   "metadata": {},
   "outputs": [
    {
     "data": {
      "text/plain": [
       "['C00001',\n",
       " 'C00003',\n",
       " 'C00004',\n",
       " 'C00005',\n",
       " 'C00006',\n",
       " 'C00007',\n",
       " 'C00008',\n",
       " 'C00009',\n",
       " 'C00010',\n",
       " 'C00013',\n",
       " 'C00014',\n",
       " 'C00015',\n",
       " 'C00016',\n",
       " 'C00020',\n",
       " 'C00004',\n",
       " 'C00017',\n",
       " 'C00019',\n",
       " 'C00002',\n",
       " 'C00008',\n",
       " 'C00021',\n",
       " 'C00022']"
      ]
     },
     "execution_count": 44,
     "metadata": {},
     "output_type": "execute_result"
    }
   ],
   "source": [
    "### Adding Saturday Customers\n",
    "\n",
    "# Add the customers from `saturday_list` to `customer_list` below.\n",
    "\n",
    "saturday_list = [\n",
    "    'C00004', 'C00017', 'C00019', 'C00002', 'C00008',\n",
    "    'C00021', 'C00022'\n",
    "]\n",
    "\n",
    "Updated_customer_list=  customer_list + saturday_list\n",
    "Updated_customer_list"
   ]
  },
  {
   "cell_type": "markdown",
   "id": "32680660-f1bd-4e28-9da3-210a266fb251",
   "metadata": {},
   "source": [
    " Hi there!\n",
    "Sorry to do this to you, but we decided to keep the Friday andSaturday sales separate for now. Can you remove Saturday’s customers from the customer list?"
   ]
  },
  {
   "cell_type": "code",
   "execution_count": 45,
   "id": "2e42ec60-f303-4d17-bb99-d5f4f9894867",
   "metadata": {},
   "outputs": [
    {
     "data": {
      "text/plain": [
       "['C00001',\n",
       " 'C00003',\n",
       " 'C00004',\n",
       " 'C00005',\n",
       " 'C00006',\n",
       " 'C00007',\n",
       " 'C00008',\n",
       " 'C00009',\n",
       " 'C00010',\n",
       " 'C00013',\n",
       " 'C00014',\n",
       " 'C00015',\n",
       " 'C00016',\n",
       " 'C00020']"
      ]
     },
     "execution_count": 45,
     "metadata": {},
     "output_type": "execute_result"
    }
   ],
   "source": [
    "del Updated_customer_list[-7:]\n",
    "Updated_customer_list"
   ]
  },
  {
   "cell_type": "markdown",
   "id": "bf2dac2e-5695-405e-89aa-6498108c03fe",
   "metadata": {},
   "source": [
    "C00004 is a friend of the owner and should not be counted in the Black Friday sales, so please remove them from the list."
   ]
  },
  {
   "cell_type": "code",
   "execution_count": 46,
   "id": "1edde068-2332-447e-b856-8f0b69bcd8fc",
   "metadata": {},
   "outputs": [
    {
     "data": {
      "text/plain": [
       "['C00001',\n",
       " 'C00003',\n",
       " 'C00005',\n",
       " 'C00006',\n",
       " 'C00007',\n",
       " 'C00008',\n",
       " 'C00009',\n",
       " 'C00010',\n",
       " 'C00013',\n",
       " 'C00014',\n",
       " 'C00015',\n",
       " 'C00016',\n",
       " 'C00020']"
      ]
     },
     "execution_count": 46,
     "metadata": {},
     "output_type": "execute_result"
    }
   ],
   "source": [
    "Updated_customer_list.remove('C00004')\n",
    "Updated_customer_list"
   ]
  },
  {
   "cell_type": "markdown",
   "id": "e37126bd-3704-427d-93b0-131832b30963",
   "metadata": {},
   "source": [
    "List functions"
   ]
  },
  {
   "cell_type": "code",
   "execution_count": 47,
   "id": "7d643f47-0a15-4f4f-b58d-f4ce7ff2ab97",
   "metadata": {},
   "outputs": [],
   "source": [
    "customer_ids = [\n",
    "    'C00004', 'C00007', 'C00015', 'C00016', 'C00020',\n",
    "    'C00010', 'C00006', 'C00001', 'C00003', 'C00014',\n",
    "    'C00001', 'C00001', 'C00005', 'C00008', 'C00013',\n",
    "    'C00004', 'C00017', 'C00019', 'C00002', 'C00008',\n",
    "    'C00021', 'C00022', 'C00006', 'C00018', 'C00018',\n",
    "    'C00010', 'C00016'\n",
    "]\n",
    "\n",
    "subtotals = [\n",
    "    15.98, 899.97, 799.97, 117.96, 5.99,\n",
    "    599.99, 24.99, 1799.94, 99.99, 254.95,\n",
    "    29.98, 99.99, 25.98, 649.98, 89.99,\n",
    "    119.99, 599.99, 649.98, 24.99, 99.99,\n",
    "    99.99, 5.99, 24.99, 999.96, 99.99,\n",
    "    399.97, 89.99\n",
    "]"
   ]
  },
  {
   "cell_type": "code",
   "execution_count": 50,
   "id": "43cd3a3f-2d27-49d6-ade6-6ae11562c4ce",
   "metadata": {},
   "outputs": [
    {
     "data": {
      "text/plain": [
       "323.3877777777776"
      ]
     },
     "execution_count": 50,
     "metadata": {},
     "output_type": "execute_result"
    }
   ],
   "source": [
    "# 1.   Calculate the average value of a transaction\n",
    "avg_transactions= sum(subtotals) / len(subtotals)\n",
    "avg_transactions"
   ]
  },
  {
   "cell_type": "code",
   "execution_count": 51,
   "id": "84f70bd0-41ab-499c-bdfd-7c82fa99383f",
   "metadata": {},
   "outputs": [
    {
     "data": {
      "text/plain": [
       "2"
      ]
     },
     "execution_count": 51,
     "metadata": {},
     "output_type": "execute_result"
    }
   ],
   "source": [
    "# 2.   Report how many transactions C00010 made\n",
    "\n",
    "customer_ids.count('C00010')"
   ]
  },
  {
   "cell_type": "code",
   "execution_count": 52,
   "id": "55af9c8b-849c-4f85-8aef-bfa450b9a321",
   "metadata": {},
   "outputs": [
    {
     "data": {
      "text/plain": [
       "5"
      ]
     },
     "execution_count": 52,
     "metadata": {},
     "output_type": "execute_result"
    }
   ],
   "source": [
    "# 3.   Look up the value of their first transaction\n",
    "customer_ids.index('C00010')"
   ]
  },
  {
   "cell_type": "code",
   "execution_count": 53,
   "id": "f7535e8a-7276-45b3-a56f-51e62d7cd951",
   "metadata": {},
   "outputs": [
    {
     "data": {
      "text/plain": [
       "599.99"
      ]
     },
     "execution_count": 53,
     "metadata": {},
     "output_type": "execute_result"
    }
   ],
   "source": [
    "subtotals[customer_ids.index('C00010')]"
   ]
  },
  {
   "cell_type": "code",
   "execution_count": 54,
   "id": "3a2a023c-4915-4b8d-92f5-66702f841d99",
   "metadata": {},
   "outputs": [
    {
     "name": "stdout",
     "output_type": "stream",
     "text": [
      "['C00001', 'C00001', 'C00001', 'C00002', 'C00003', 'C00004', 'C00004', 'C00005', 'C00006', 'C00006', 'C00007', 'C00008', 'C00008', 'C00010', 'C00010', 'C00013', 'C00014', 'C00015', 'C00016', 'C00016', 'C00017', 'C00018', 'C00018', 'C00019', 'C00020', 'C00021', 'C00022']\n"
     ]
    }
   ],
   "source": [
    "# Print a list of sorted IDs (don’t change the list!)\n",
    "print(sorted(customer_ids))"
   ]
  },
  {
   "cell_type": "markdown",
   "id": "d4151378-d33f-4650-b947-38a5d1608a91",
   "metadata": {},
   "source": [
    "# Nested Lists"
   ]
  },
  {
   "cell_type": "code",
   "execution_count": 56,
   "id": "167312b5-d4fe-4592-a47d-e62a0d897d72",
   "metadata": {},
   "outputs": [
    {
     "data": {
      "text/plain": [
       "[['a', 'b', 'c'], ['d', 'e', 'f'], ['g', 'h', 'i']]"
      ]
     },
     "execution_count": 56,
     "metadata": {},
     "output_type": "execute_result"
    }
   ],
   "source": [
    "alphabets = [\n",
    "    ['a', 'b', 'c'],\n",
    "    ['d', 'e', 'f'],\n",
    "    ['g', 'h', 'i']\n",
    "]\n",
    "alphabets"
   ]
  },
  {
   "cell_type": "code",
   "execution_count": 58,
   "id": "095a2b2f-f698-45f6-b2d1-5f459fb6af14",
   "metadata": {},
   "outputs": [
    {
     "data": {
      "text/plain": [
       "['d', 'e', 'f']"
      ]
     },
     "execution_count": 58,
     "metadata": {},
     "output_type": "execute_result"
    }
   ],
   "source": [
    "# grab the second elements in the alphabets\n",
    "alphabets[1]"
   ]
  },
  {
   "cell_type": "code",
   "execution_count": 60,
   "id": "51f6a946-aa85-4db0-8395-40e121211233",
   "metadata": {},
   "outputs": [
    {
     "data": {
      "text/plain": [
       "'e'"
      ]
     },
     "execution_count": 60,
     "metadata": {},
     "output_type": "execute_result"
    }
   ],
   "source": [
    "# grab the second elements of the second elements\n",
    "alphabets[1][1]"
   ]
  },
  {
   "cell_type": "markdown",
   "id": "d05a2aa9-75f8-4080-af0e-7700dbfa73d3",
   "metadata": {},
   "source": [
    "Nested lists and functions"
   ]
  },
  {
   "cell_type": "code",
   "execution_count": 62,
   "id": "23b4c624-ceb4-4224-a5ba-acab99eac8c5",
   "metadata": {},
   "outputs": [
    {
     "data": {
      "text/plain": [
       "[['a', 'b', 'c'], ['d', 'e', 'f', 'k', 'k'], ['g', 'h', 'i']]"
      ]
     },
     "execution_count": 62,
     "metadata": {},
     "output_type": "execute_result"
    }
   ],
   "source": [
    "# Add k to the second lists\n",
    "alphabets[1].append('k')\n",
    "alphabets"
   ]
  },
  {
   "cell_type": "code",
   "execution_count": 65,
   "id": "24895540-d2d5-4bd3-99fc-36ffc80bf305",
   "metadata": {},
   "outputs": [
    {
     "data": {
      "text/plain": [
       "1"
      ]
     },
     "execution_count": 65,
     "metadata": {},
     "output_type": "execute_result"
    }
   ],
   "source": [
    "# count how many h in alphabets\n",
    "alphabets[2].count('h')"
   ]
  },
  {
   "cell_type": "markdown",
   "id": "bdfde8a3-cb33-4f7a-bc13-c2e8636a7c6e",
   "metadata": {},
   "source": [
    "Variable Assignment"
   ]
  },
  {
   "cell_type": "code",
   "execution_count": 67,
   "id": "c2b6facf-874a-437e-a0ee-2e13eeb097fa",
   "metadata": {},
   "outputs": [
    {
     "data": {
      "text/plain": [
       "[['a', 'b', 'c'], ['d', 'e', 'f', 'k', 'k'], ['g', 'h', 'i']]"
      ]
     },
     "execution_count": 67,
     "metadata": {},
     "output_type": "execute_result"
    }
   ],
   "source": [
    "alphabets "
   ]
  },
  {
   "cell_type": "code",
   "execution_count": 75,
   "id": "345e3009-25f2-44fa-9c4c-1778e48deb8c",
   "metadata": {},
   "outputs": [],
   "source": [
    "# using =  to copy a lists\n",
    "Alphabets= alphabets "
   ]
  },
  {
   "cell_type": "code",
   "execution_count": 76,
   "id": "8a4fd854-dbae-491a-ba28-a551d8df655f",
   "metadata": {},
   "outputs": [],
   "source": [
    "# change the second elements in alphabets\n",
    "alphabets[2] = ['j', 'k', 'l']"
   ]
  },
  {
   "cell_type": "code",
   "execution_count": 77,
   "id": "9a7bf6ac-aa83-4631-92d6-9a30f399e709",
   "metadata": {},
   "outputs": [
    {
     "data": {
      "text/plain": [
       "[['a', 'b', 'c'], ['d', 'e', 'f', 'k', 'k'], ['j', 'k', 'l']]"
      ]
     },
     "execution_count": 77,
     "metadata": {},
     "output_type": "execute_result"
    }
   ],
   "source": [
    "Alphabets"
   ]
  },
  {
   "cell_type": "code",
   "execution_count": 78,
   "id": "efd7b6ea-53d9-43e2-bce7-32434a0e9490",
   "metadata": {},
   "outputs": [],
   "source": [
    "# using .copy() to copy a lists\n",
    "Alphabets1 = alphabets.copy()"
   ]
  },
  {
   "cell_type": "code",
   "execution_count": 80,
   "id": "b8e81159-a14d-462d-b1d9-8548bf4016c6",
   "metadata": {},
   "outputs": [
    {
     "data": {
      "text/plain": [
       "[['a', 'b', 'c'], ['d', 'e', 'f', 'k', 'k'], ['j', 'k', 'l']]"
      ]
     },
     "execution_count": 80,
     "metadata": {},
     "output_type": "execute_result"
    }
   ],
   "source": [
    "Alphabets1"
   ]
  },
  {
   "cell_type": "code",
   "execution_count": 81,
   "id": "cfe6110a-b7b8-460e-8db7-0e8689fecbc1",
   "metadata": {},
   "outputs": [],
   "source": [
    "# change an elements\n",
    "alphabets[0][1] = 'Oh no!'"
   ]
  },
  {
   "cell_type": "code",
   "execution_count": 82,
   "id": "6ed9d44e-d775-4234-9c4d-4c9f3a295d80",
   "metadata": {},
   "outputs": [
    {
     "data": {
      "text/plain": [
       "[['a', 'Oh no!', 'c'], ['d', 'e', 'f', 'k', 'k'], ['j', 'k', 'l']]"
      ]
     },
     "execution_count": 82,
     "metadata": {},
     "output_type": "execute_result"
    }
   ],
   "source": [
    "Alphabets1"
   ]
  },
  {
   "cell_type": "code",
   "execution_count": 89,
   "id": "c5557313-bdce-4dcd-a441-f12c0fd62484",
   "metadata": {},
   "outputs": [
    {
     "data": {
      "text/plain": [
       "[[1, 2, 3], [4, 5, 6], [7, 8, 9]]"
      ]
     },
     "execution_count": 89,
     "metadata": {},
     "output_type": "execute_result"
    }
   ],
   "source": [
    "from copy import deepcopy\n",
    "figures = [\n",
    "    [1,2,3],\n",
    "    [4,5,6],\n",
    "    [7,8,9]\n",
    "]\n",
    "figures"
   ]
  },
  {
   "cell_type": "code",
   "execution_count": 90,
   "id": "895127c4-20fd-461a-b16e-3446eb30afc1",
   "metadata": {},
   "outputs": [],
   "source": [
    "figures1 = deepcopy(figures)"
   ]
  },
  {
   "cell_type": "code",
   "execution_count": 91,
   "id": "ae6bc995-d350-4b2e-b7e4-2376c5280ed1",
   "metadata": {},
   "outputs": [
    {
     "data": {
      "text/plain": [
       "[[1, 2, 3], [4, 5, 6], [7, 8, 9]]"
      ]
     },
     "execution_count": 91,
     "metadata": {},
     "output_type": "execute_result"
    }
   ],
   "source": [
    "figures1"
   ]
  },
  {
   "cell_type": "code",
   "execution_count": 94,
   "id": "6bb0bf56-8326-4d3f-b38a-2102b980c370",
   "metadata": {},
   "outputs": [
    {
     "data": {
      "text/plain": [
       "[[1799.94, 29.98, 99.99],\n",
       " [15.98, 119.99],\n",
       " [24.99, 24.99],\n",
       " [649.99, 99.99],\n",
       " [599.99, 399.97]]"
      ]
     },
     "execution_count": 94,
     "metadata": {},
     "output_type": "execute_result"
    }
   ],
   "source": [
    "orders_c00001 = [1799.94, 29.98, 99.99]\n",
    "orders_c00004 = [15.98, 119.99]\n",
    "orders_c00006 = [24.99, 24.99]\n",
    "orders_c00008 = [649.99, 99.99]\n",
    "orders_c00010 = [599.99, 399.97]\n",
    "\n",
    "# Create a list with these 5 lists as elements\n",
    "orders = [\n",
    "    orders_c00001,\n",
    "    orders_c00004,\n",
    "    orders_c00006,\n",
    "    orders_c00008,\n",
    "    orders_c00010\n",
    "]\n",
    "orders"
   ]
  },
  {
   "cell_type": "code",
   "execution_count": 95,
   "id": "c1e9105d-c3f7-4d28-be00-b2dad77c9221",
   "metadata": {},
   "outputs": [
    {
     "data": {
      "text/plain": [
       "[29.98, 99.99]"
      ]
     },
     "execution_count": 95,
     "metadata": {},
     "output_type": "execute_result"
    }
   ],
   "source": [
    "# Print the second and third orders for the customer that made three total orders\n",
    "orders[0][1:]"
   ]
  },
  {
   "cell_type": "code",
   "execution_count": 97,
   "id": "f864bd27-9880-4025-bcb2-b139a2a17efd",
   "metadata": {},
   "outputs": [],
   "source": [
    "# Create a copy of this list and change the transaction values for C00004 (friend of the owner) to 0.0 – without changing the original\n",
    "orders1 = orders.copy()"
   ]
  },
  {
   "cell_type": "code",
   "execution_count": 98,
   "id": "9c1754ef-3773-481f-ada2-20b20db57ffd",
   "metadata": {},
   "outputs": [],
   "source": [
    "orders[1] = [0.0, 0.0]"
   ]
  },
  {
   "cell_type": "code",
   "execution_count": 99,
   "id": "8cde1081-2262-47b5-b6c4-8415fdd9fc6d",
   "metadata": {},
   "outputs": [
    {
     "data": {
      "text/plain": [
       "[[1799.94, 29.98, 99.99],\n",
       " [0.0, 0.0],\n",
       " [24.99, 24.99],\n",
       " [649.99, 99.99],\n",
       " [599.99, 399.97]]"
      ]
     },
     "execution_count": 99,
     "metadata": {},
     "output_type": "execute_result"
    }
   ],
   "source": [
    "orders"
   ]
  },
  {
   "cell_type": "code",
   "execution_count": 100,
   "id": "90a085a2-29f4-4b0c-8034-15db5ffbd8db",
   "metadata": {},
   "outputs": [
    {
     "data": {
      "text/plain": [
       "[[1799.94, 29.98, 99.99],\n",
       " [15.98, 119.99],\n",
       " [24.99, 24.99],\n",
       " [649.99, 99.99],\n",
       " [599.99, 399.97]]"
      ]
     },
     "execution_count": 100,
     "metadata": {},
     "output_type": "execute_result"
    }
   ],
   "source": [
    "orders1"
   ]
  },
  {
   "cell_type": "code",
   "execution_count": null,
   "id": "8b070db7-840a-4f0c-8f55-8c1a1d350673",
   "metadata": {},
   "outputs": [],
   "source": []
  }
 ],
 "metadata": {
  "kernelspec": {
   "display_name": "Python 3 (ipykernel)",
   "language": "python",
   "name": "python3"
  },
  "language_info": {
   "codemirror_mode": {
    "name": "ipython",
    "version": 3
   },
   "file_extension": ".py",
   "mimetype": "text/x-python",
   "name": "python",
   "nbconvert_exporter": "python",
   "pygments_lexer": "ipython3",
   "version": "3.11.7"
  }
 },
 "nbformat": 4,
 "nbformat_minor": 5
}
