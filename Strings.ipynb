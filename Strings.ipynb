{
 "cells": [
  {
   "cell_type": "code",
   "execution_count": 2,
   "id": "1103576f-21fc-4d54-bcd5-ea363dddfa1b",
   "metadata": {},
   "outputs": [
    {
     "name": "stdout",
     "output_type": "stream",
     "text": [
      "Net Profit\n"
     ]
    }
   ],
   "source": [
    "n = \"Net\"\n",
    "p = \"Profit\"\n",
    "print(n + \" \" +p)"
   ]
  },
  {
   "cell_type": "markdown",
   "id": "68e28ad2-b6a4-4bf5-958c-4f965154f424",
   "metadata": {},
   "source": [
    "input a sentence from the user\r\n",
    "count the number of words in the sentence\r\n",
    "make sure it doesnt count space"
   ]
  },
  {
   "cell_type": "code",
   "execution_count": 7,
   "id": "b347982b-cd9e-49b1-802f-8c4153c6eead",
   "metadata": {},
   "outputs": [
    {
     "name": "stdin",
     "output_type": "stream",
     "text": [
      "Write a story : I went to the library to read\n"
     ]
    },
    {
     "name": "stdout",
     "output_type": "stream",
     "text": [
      "The number of sentences in the story is 7\n"
     ]
    }
   ],
   "source": [
    "story = str(input(\"Write a story :\"))\n",
    "#Remove extra spaces\n",
    "clean_story = story.strip()\n",
    "# converting the string to a list\n",
    "story_1 = clean_story.split(\" \")\n",
    "# Count the number of sentences\n",
    "\n",
    "results = len(story_1)\n",
    "print(f\"The number of sentences in the story is {results}\")\n"
   ]
  },
  {
   "cell_type": "markdown",
   "id": "5ef8172c-6225-473b-bdd6-c3dbd472452c",
   "metadata": {},
   "source": [
    "Take the user's first and last name as input generate a gmail_id for the user by concatenanting the first three letters of the first and last three letters @gmail.com ensure the username is lowercase and has no spaces."
   ]
  },
  {
   "cell_type": "code",
   "execution_count": 11,
   "id": "84c55927-55cb-462b-abb6-be1588cba50f",
   "metadata": {},
   "outputs": [
    {
     "name": "stdin",
     "output_type": "stream",
     "text": [
      "What is your first name : Labake\n",
      "What is your last name : Mohammed\n"
     ]
    },
    {
     "name": "stdout",
     "output_type": "stream",
     "text": [
      "This is your mail account is: labmed@gmail.com\n"
     ]
    }
   ],
   "source": [
    "# Asking users for their first name\n",
    "first_name = str(input(\"What is your first name :\")).strip().lower()\n",
    "# Extracting the first 3 letters\n",
    "first_3 = first_name[0:3]\n",
    "#Asking users for their last name\n",
    "last_name = str(input(\"What is your last name :\")).strip().lower()\n",
    "# Extracting the last 3 letters\n",
    "last_3 = last_name[-3:]\n",
    "\n",
    "domain = \"@gmail.com\"\n",
    "# Concatenate the results without a comma\n",
    "results = first_3+last_3+domain\n",
    "print(f\"This is your mail account is: {results}\")"
   ]
  },
  {
   "cell_type": "code",
   "execution_count": null,
   "id": "a0dbb72b-1483-4b39-bce6-57f3c4d75935",
   "metadata": {},
   "outputs": [],
   "source": []
  }
 ],
 "metadata": {
  "kernelspec": {
   "display_name": "Python 3 (ipykernel)",
   "language": "python",
   "name": "python3"
  },
  "language_info": {
   "codemirror_mode": {
    "name": "ipython",
    "version": 3
   },
   "file_extension": ".py",
   "mimetype": "text/x-python",
   "name": "python",
   "nbconvert_exporter": "python",
   "pygments_lexer": "ipython3",
   "version": "3.11.7"
  }
 },
 "nbformat": 4,
 "nbformat_minor": 5
}
